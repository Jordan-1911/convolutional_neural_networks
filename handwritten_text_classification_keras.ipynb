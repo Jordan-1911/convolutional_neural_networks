{
  "nbformat": 4,
  "nbformat_minor": 0,
  "metadata": {
    "colab": {
      "provenance": []
    },
    "kernelspec": {
      "name": "python3",
      "display_name": "Python 3"
    },
    "language_info": {
      "name": "python"
    },
    "accelerator": "GPU",
    "gpuClass": "standard"
  },
  "cells": [
    {
      "cell_type": "code",
      "execution_count": 13,
      "metadata": {
        "id": "MDtjCnG_kwrS"
      },
      "outputs": [],
      "source": [
        "import numpy as np\n",
        "import matplotlib.pyplot as plt\n",
        "import tensorflow\n",
        "\n",
        "from tensorflow import keras\n",
        "from keras.datasets import mnist\n",
        "from keras.models import Sequential\n",
        "from keras.layers.core import Dense, Dropout, Activation\n",
        "from keras.utils import np_utils"
      ]
    },
    {
      "cell_type": "code",
      "source": [
        "(X_train, y_train), (X_test, y_test) = mnist.load_data()\n",
        "\n",
        "print('X_train shape: ', X_train.shape)\n",
        "print('X_test shape: ', X_test.shape)\n",
        "print('y_train shape: ', y_train.shape)\n",
        "print('y_test shape: ', y_test.shape)"
      ],
      "metadata": {
        "colab": {
          "base_uri": "https://localhost:8080/"
        },
        "id": "qmm09ui7LiCN",
        "outputId": "8d447e7c-252b-4483-cb87-934001f8cf29"
      },
      "execution_count": 16,
      "outputs": [
        {
          "output_type": "stream",
          "name": "stdout",
          "text": [
            "X_train shape:  (60000, 28, 28)\n",
            "X_test shape:  (10000, 28, 28)\n",
            "y_train shape:  (60000,)\n",
            "y_test shape:  (10000,)\n"
          ]
        }
      ]
    },
    {
      "cell_type": "code",
      "source": [
        "# Visualize data\n",
        "%matplotlib inline\n",
        "\n",
        "\n",
        "def display_digit(index):\n",
        "  label = y_train[index].argmax(axis=0)\n",
        "  image = X_train[index].reshape(28, 28)\n",
        "  plt.title('Training data, index: %d, Label: %d' % (index, label))\n",
        "  plt.imshow(image, cmap='gray_r')\n",
        "  plt.show()\n",
        "\n",
        "\n",
        "display_digit(0)\n",
        "X_train = X_train.reshape(60000, 784)\n",
        "X_test = X_test.reshape(10000, 784)\n",
        "X_train = X_train.astype('float32')\n",
        "X_test = X_test.astype('float32')\n",
        "X_train /= 255\n",
        "X_test /= 255\n",
        "print(\"Train the matrix shape\", X_train.shape)\n",
        "print(\"Test the matrix shape\", X_test.shape)\n",
        "\n",
        "from keras.utils.np_utils import to_categorical\n",
        "\n",
        "print(y_train.shape)\n",
        "y_train = to_categorical(y_train, 10)\n",
        "y_test = to_categorical(y_test, 10)\n",
        "print(y_train.shape)\n",
        "\n"
      ],
      "metadata": {
        "colab": {
          "base_uri": "https://localhost:8080/",
          "height": 362
        },
        "id": "vV54eVp5MWbZ",
        "outputId": "96b68310-e952-4689-8a6a-4a195b3b844d"
      },
      "execution_count": 20,
      "outputs": [
        {
          "output_type": "display_data",
          "data": {
            "text/plain": [
              "<Figure size 432x288 with 1 Axes>"
            ],
            "image/png": "[encoded data removed]"
          },
          "metadata": {
            "needs_background": "light"
          }
        },
        {
          "output_type": "stream",
          "name": "stdout",
          "text": [
            "Train the matrix shape (60000, 784)\n",
            "Test the matrix shape (10000, 784)\n",
            "(60000,)\n",
            "(60000, 10)\n"
          ]
        }
      ]
    },
    {
      "cell_type": "markdown",
      "source": [
        "Next, we must build and define the Neural Network (NN) using Sequential, Dense, and Activation.\n",
        "\n",
        "Here, 'relu' is just a nonlinear function applied to the above layer (Rectified Linear Unit)\n",
        "\n",
        "Softmax simply ensures that the output is a valid probability distribution - AKA values obtained are all non negative and sum to one. "
      ],
      "metadata": {
        "id": "KCIUp5-tPV63"
      }
    },
    {
      "cell_type": "code",
      "source": [
        "def build_model():\n",
        "  model = Sequential()\n",
        "  model.add(Dense(512, input_shape =(784,)))\n",
        "  model.add(Activation('relu'))\n",
        "\n",
        "  model.add(Dropout(0.2))\n",
        "  model.add(Dense(512))\n",
        "  model.add(Activation('relu'))\n",
        "  model.add(Dropout(0.2))\n",
        "  model.add(Dense(10))\n",
        "  model.add(Activation('softmax'))\n",
        "  return model\n",
        "\n",
        "\n",
        "model = build_model()\n",
        "model.compile(optimizer='rmsprop', loss='categorical_crossentropy', metrics=['accuracy'])"
      ],
      "metadata": {
        "id": "FCz7jZIIPccE"
      },
      "execution_count": 21,
      "outputs": []
    },
    {
      "cell_type": "markdown",
      "source": [
        "Next, we will train the network. We feed it with data. "
      ],
      "metadata": {
        "id": "fgbVQtskQyRd"
      }
    },
    {
      "cell_type": "code",
      "source": [
        "model.fit(X_train, y_train, batch_size=128, epochs=30, verbose=1, validation_data=(X_test, y_test))"
      ],
      "metadata": {
        "colab": {
          "base_uri": "https://localhost:8080/"
        },
        "id": "KWjmknVAQ7I5",
        "outputId": "2514bf9f-2292-47eb-e2cf-f4eaf01c6c20"
      },
      "execution_count": 24,
      "outputs": [
        {
          "output_type": "stream",
          "name": "stdout",
          "text": [
            "Epoch 1/30\n",
            "469/469 [==============================] - 5s 5ms/step - loss: 0.2452 - accuracy: 0.9254 - val_loss: 0.1056 - val_accuracy: 0.9679\n",
            "Epoch 2/30\n",
            "469/469 [==============================] - 2s 4ms/step - loss: 0.1028 - accuracy: 0.9687 - val_loss: 0.0787 - val_accuracy: 0.9755\n",
            "Epoch 3/30\n",
            "469/469 [==============================] - 2s 4ms/step - loss: 0.0740 - accuracy: 0.9776 - val_loss: 0.0803 - val_accuracy: 0.9760\n",
            "Epoch 4/30\n",
            "469/469 [==============================] - 2s 4ms/step - loss: 0.0615 - accuracy: 0.9814 - val_loss: 0.0677 - val_accuracy: 0.9795\n",
            "Epoch 5/30\n",
            "469/469 [==============================] - 2s 4ms/step - loss: 0.0495 - accuracy: 0.9857 - val_loss: 0.0735 - val_accuracy: 0.9811\n",
            "Epoch 6/30\n",
            "469/469 [==============================] - 2s 4ms/step - loss: 0.0433 - accuracy: 0.9873 - val_loss: 0.0745 - val_accuracy: 0.9828\n",
            "Epoch 7/30\n",
            "469/469 [==============================] - 2s 4ms/step - loss: 0.0373 - accuracy: 0.9887 - val_loss: 0.0967 - val_accuracy: 0.9793\n",
            "Epoch 8/30\n",
            "469/469 [==============================] - 2s 4ms/step - loss: 0.0355 - accuracy: 0.9895 - val_loss: 0.0857 - val_accuracy: 0.9824\n",
            "Epoch 9/30\n",
            "469/469 [==============================] - 2s 4ms/step - loss: 0.0312 - accuracy: 0.9909 - val_loss: 0.0842 - val_accuracy: 0.9830\n",
            "Epoch 10/30\n",
            "469/469 [==============================] - 2s 4ms/step - loss: 0.0289 - accuracy: 0.9918 - val_loss: 0.0906 - val_accuracy: 0.9826\n",
            "Epoch 11/30\n",
            "469/469 [==============================] - 2s 4ms/step - loss: 0.0265 - accuracy: 0.9925 - val_loss: 0.0925 - val_accuracy: 0.9831\n",
            "Epoch 12/30\n",
            "469/469 [==============================] - 2s 4ms/step - loss: 0.0255 - accuracy: 0.9928 - val_loss: 0.0920 - val_accuracy: 0.9820\n",
            "Epoch 13/30\n",
            "469/469 [==============================] - 2s 4ms/step - loss: 0.0245 - accuracy: 0.9932 - val_loss: 0.0944 - val_accuracy: 0.9833\n",
            "Epoch 14/30\n",
            "469/469 [==============================] - 2s 4ms/step - loss: 0.0216 - accuracy: 0.9939 - val_loss: 0.1085 - val_accuracy: 0.9835\n",
            "Epoch 15/30\n",
            "469/469 [==============================] - 2s 4ms/step - loss: 0.0223 - accuracy: 0.9937 - val_loss: 0.1149 - val_accuracy: 0.9836\n",
            "Epoch 16/30\n",
            "469/469 [==============================] - 2s 4ms/step - loss: 0.0200 - accuracy: 0.9947 - val_loss: 0.1127 - val_accuracy: 0.9816\n",
            "Epoch 17/30\n",
            "469/469 [==============================] - 2s 4ms/step - loss: 0.0203 - accuracy: 0.9946 - val_loss: 0.1267 - val_accuracy: 0.9826\n",
            "Epoch 18/30\n",
            "469/469 [==============================] - 2s 4ms/step - loss: 0.0186 - accuracy: 0.9949 - val_loss: 0.1278 - val_accuracy: 0.9834\n",
            "Epoch 19/30\n",
            "469/469 [==============================] - 2s 4ms/step - loss: 0.0163 - accuracy: 0.9954 - val_loss: 0.1190 - val_accuracy: 0.9836\n",
            "Epoch 20/30\n",
            "469/469 [==============================] - 2s 4ms/step - loss: 0.0159 - accuracy: 0.9957 - val_loss: 0.1376 - val_accuracy: 0.9818\n",
            "Epoch 21/30\n",
            "469/469 [==============================] - 2s 4ms/step - loss: 0.0150 - accuracy: 0.9957 - val_loss: 0.1365 - val_accuracy: 0.9835\n",
            "Epoch 22/30\n",
            "469/469 [==============================] - 2s 4ms/step - loss: 0.0146 - accuracy: 0.9962 - val_loss: 0.1489 - val_accuracy: 0.9830\n",
            "Epoch 23/30\n",
            "469/469 [==============================] - 2s 4ms/step - loss: 0.0149 - accuracy: 0.9961 - val_loss: 0.1282 - val_accuracy: 0.9841\n",
            "Epoch 24/30\n",
            "469/469 [==============================] - 2s 4ms/step - loss: 0.0146 - accuracy: 0.9961 - val_loss: 0.1574 - val_accuracy: 0.9826\n",
            "Epoch 25/30\n",
            "469/469 [==============================] - 2s 4ms/step - loss: 0.0142 - accuracy: 0.9964 - val_loss: 0.1551 - val_accuracy: 0.9832\n",
            "Epoch 26/30\n",
            "469/469 [==============================] - 2s 4ms/step - loss: 0.0136 - accuracy: 0.9969 - val_loss: 0.1591 - val_accuracy: 0.9844\n",
            "Epoch 27/30\n",
            "469/469 [==============================] - 2s 4ms/step - loss: 0.0141 - accuracy: 0.9965 - val_loss: 0.1402 - val_accuracy: 0.9848\n",
            "Epoch 28/30\n",
            "469/469 [==============================] - 2s 4ms/step - loss: 0.0141 - accuracy: 0.9967 - val_loss: 0.1472 - val_accuracy: 0.9831\n",
            "Epoch 29/30\n",
            "469/469 [==============================] - 2s 4ms/step - loss: 0.0137 - accuracy: 0.9968 - val_loss: 0.1677 - val_accuracy: 0.9834\n",
            "Epoch 30/30\n",
            "469/469 [==============================] - 2s 4ms/step - loss: 0.0156 - accuracy: 0.9968 - val_loss: 0.1430 - val_accuracy: 0.9844\n"
          ]
        },
        {
          "output_type": "execute_result",
          "data": {
            "text/plain": [
              "<keras.callbacks.History at 0x7f1e1afd8cd0>"
            ]
          },
          "metadata": {},
          "execution_count": 24
        }
      ]
    },
    {
      "cell_type": "code",
      "source": [
        "score = model.evaluate(X_test, y_test, batch_size=32, verbose=1, sample_weight=None)\n",
        "\n",
        "print('The test score is: ', score[0])\n",
        "print('The test accuracy is: ', score[1])"
      ],
      "metadata": {
        "colab": {
          "base_uri": "https://localhost:8080/"
        },
        "id": "xuSqNZrvR3zN",
        "outputId": "505c3afc-7076-4c56-dafd-fbda69e9733f"
      },
      "execution_count": 26,
      "outputs": [
        {
          "output_type": "stream",
          "name": "stdout",
          "text": [
            "313/313 [==============================] - 1s 2ms/step - loss: 0.1430 - accuracy: 0.9844\n",
            "The test score is:  0.14302651584148407\n",
            "The test accuracy is:  0.9843999743461609\n"
          ]
        }
      ]
    }
  ]
}